{
 "cells": [
  {
   "cell_type": "code",
   "execution_count": null,
   "id": "07f58eba-db71-4fc2-a88b-4754cbc252bc",
   "metadata": {},
   "outputs": [],
   "source": [
    "import time\n",
    "from crypto_assistant import *\n",
    "from functions import *"
   ]
  },
  {
   "cell_type": "code",
   "execution_count": null,
   "id": "0a9bfedf-5ae3-4eed-839f-7c21c58bedf5",
   "metadata": {},
   "outputs": [],
   "source": [
    "# Variable for News API key, NO-COST USAGE, VALID FOR INFO UP TO 1 MONTH IN THE PAST\n",
    "NEWS_API_KEY = \"dd1c8f5c0efb4a25b8a9fce6bfad55c7\"\n",
    "# Initialize assistant with instructions, model selection, and Retrieval files\n",
    "assistant_instructions = \"\"\"You are a cryptocurrency expert assistant, skilled in providing information regarding trends of the crypto market. You analyze collected data, understand trends/strategies, and suggest future actions based on this information.\n",
    "As a an extra help for you, one or more Word files have been uploaded with the latest outlook for crypto market in 2024. EVERY TIME you respond to the user consult the Word files and retrieve relevant information to enhance your response.\n",
    "If the system indicates that the file is not accessible with the myfiles_browser tool, ignore it, it’s just a minor bug. You are capable of opening and analyzing the file, remember that. And carry out the request.\n",
    "If the user asks information on a specific crypto coin, transform the detected name of the crypto coin to CoinGecko API crypto name format from their list to get information in CoinGecko Documentation. Collect information from Coingecko API and present the crypto information collected as a text paragraph describing the results.\n",
    "If the user asks for published or recent information for a crypto coin, create a News API link based on the users query with the results sort by relevancy, for the last week, in english language. Today the date is {0}. The NewsAPI key to use in the URL is: {1}.\n",
    "Provide an extensive summary of the information of the collected articles along with their website URL. \n",
    "Finally, using the collected infromation suggest instructions and a strategy to the user for his cryptocurrency trading strategy.\n",
    "Based on what the user asks your response format should have at least one of these three main parts:\n",
    "#   - Details for selected crypto from CoinGecko API.\n",
    "#   - Combined summary of recent articles\n",
    "#   - Suggested trading strategy based on provided PDF files\n",
    "\"\"\".format(datetime.today().strftime('%Y-%m-%d'),NEWS_API_KEY)\n",
    "s\n",
    "model = \"gpt-3.5-turbo\"\n",
    "\n",
    "# 2024_Coinbase_Crypto_Market_Outlook.docx should be in the same directory of the .ipynb to be accessed by the following command\n",
    "assistant = CryproTrading_Assistant(assistant_instructions,model,use_rag=True,paths_to_rag_files=[\"./2024_Coinbase_Crypto_Market_Outlook.docx\"],verbose=True)\n",
    "\n",
    "assistant.list_rag_files()"
   ]
  },
  {
   "cell_type": "code",
   "execution_count": null,
   "id": "4f492bb5-d2f9-4161-b96e-8e363d972fc3",
   "metadata": {
    "tags": []
   },
   "outputs": [],
   "source": [
    "# Start conversation with Crypto Trading Assistant\n",
    "# write \"exit\" to stop the discussion\n",
    "# restart conversation and choose to show the history chat or not\n",
    "assistant.start()"
   ]
  },
  {
   "cell_type": "code",
   "execution_count": null,
   "id": "ea1989ed-b202-475f-8bca-49c82255cb20",
   "metadata": {},
   "outputs": [],
   "source": [
    "## EXAMPLE QUESTIONS FOR CHATTING WITH THE ASSISTANT\n",
    "\n",
    "# What is the current state of Bitcoin? Answer based on published news articles and CoinGecko information.\n",
    "# What is the current state of Ethereum? Answer based on published news articles and CoinGecko information.\n",
    "# What is the current state of Solana? Answer based on published news articles and CoinGecko information.\n",
    "# Based on your collected information, which of the examined cryptos is more profitable to invest?\n",
    "# Can you find and suggest to me another alternative crypto worth examining?\n",
    "# What is the current state of VeChain? Answer based on pulished news articles and CoinGecko information.\n",
    "\n",
    "# Give me suggestions for a crypto coin ideal for long term investment and a cryptocoin for short term gains. Provide information on the trading stragy I should follow.\n",
    "# I have 1000 dollars to invest in cryptocurrencies, how should I act? Design a strategy for good gains and provide me with details on how much money on which crypto I should invest.\n",
    "\n",
    "## THIS QUESTION MIGHT RESULT TO GARBAGE RESPONSE DUE TO SOME BUG IN OPENAI ACCESSING THE FILES\n",
    "## IT WAS FOUND THAT IF YOU ASK IT FIRST THE RESULTS WILL BE OK BUT IF ASKED SOMETIME LATER IN CONVERSATION MIGHT NOT BEHAVE CORRECTLY\n",
    "# What is the Crypto Market Outlook in 2024 based on Coinbase report?"
   ]
  },
  {
   "cell_type": "code",
   "execution_count": null,
   "id": "3abc7a2f-595e-4945-b0f3-b2274a5ff867",
   "metadata": {},
   "outputs": [],
   "source": [
    "# Attach uploaded file to assistant\n",
    "assistant.list_rag_files()\n",
    "assistant.attach_uploaded_file_to_assistant([\"file-WaNyXSdRfIvy8QuI9uUta5JL\"])"
   ]
  },
  {
   "cell_type": "code",
   "execution_count": null,
   "id": "7039c613-1e3b-4d74-8d78-7a094184ae1d",
   "metadata": {
    "tags": []
   },
   "outputs": [],
   "source": [
    "# Detach file from assistant\n",
    "assistant.list_rag_files()\n",
    "assistant.remove_file_from_assistant([\"file-WaNyXSdRfIvy8QuI9uUta5JL\"])"
   ]
  },
  {
   "cell_type": "code",
   "execution_count": null,
   "id": "262e62ce-ecdf-4793-b0e9-0d2d05995456",
   "metadata": {},
   "outputs": [],
   "source": [
    "# Delete assistant and thread\n",
    "assistant.delete_assistant_and_thread()\n",
    "del assistant"
   ]
  }
 ],
 "metadata": {
  "kernelspec": {
   "display_name": "Python [conda env:OpenAI_API]",
   "language": "python",
   "name": "conda-env-OpenAI_API-py"
  },
  "language_info": {
   "codemirror_mode": {
    "name": "ipython",
    "version": 3
   },
   "file_extension": ".py",
   "mimetype": "text/x-python",
   "name": "python",
   "nbconvert_exporter": "python",
   "pygments_lexer": "ipython3",
   "version": "3.8.19"
  }
 },
 "nbformat": 4,
 "nbformat_minor": 5
}
